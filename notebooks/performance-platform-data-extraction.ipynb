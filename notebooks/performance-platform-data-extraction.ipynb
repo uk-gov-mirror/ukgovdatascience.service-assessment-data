{
 "cells": [
  {
   "cell_type": "code",
   "execution_count": null,
   "id": "d591a33b",
   "metadata": {},
   "outputs": [],
   "source": [
    "import json\n",
    "import datetime\n",
    "import numpy as np\n",
    "import pandas as pd\n",
    "from pandas.io.json import json_normalize\n",
    "import pymongo\n",
    "from bs4 import BeautifulSoup\n",
    "import requests\n",
    "import re\n",
    "import pathlib\n",
    "pd.set_option(\"max_colwidth\", 200)"
   ]
  },
  {
   "cell_type": "code",
   "execution_count": null,
   "id": "e197f1b2",
   "metadata": {},
   "outputs": [],
   "source": [
    "\n",
    "mongo_client = pymongo.MongoClient('mongodb://localhost:27017/')\n"
   ]
  },
  {
   "cell_type": "code",
   "execution_count": null,
   "id": "cdd16118",
   "metadata": {},
   "outputs": [],
   "source": [
    "db = mongo_client['performance-platform']"
   ]
  },
  {
   "cell_type": "code",
   "execution_count": null,
   "id": "c5228a20",
   "metadata": {},
   "outputs": [],
   "source": [
    "collections = [db for db in db.list_collection_names()]"
   ]
  },
  {
   "cell_type": "code",
   "execution_count": null,
   "id": "65efcf29",
   "metadata": {},
   "outputs": [],
   "source": [
    "collections"
   ]
  },
  {
   "cell_type": "code",
   "execution_count": null,
   "id": "b15bed5e",
   "metadata": {},
   "outputs": [],
   "source": [
    "def collection_to_df(collections,db):\n",
    "    dfs = []\n",
    "    for collection in collections:\n",
    "        cursor = db[collection].find({})\n",
    "        df = pd.json_normalize(list(cursor))\n",
    "        df['service'] = collection\n",
    "        dfs.append(df)\n",
    "        \n",
    "    \n",
    "    combined_df = pd.concat(dfs)\n",
    "    return combined_df"
   ]
  },
  {
   "cell_type": "code",
   "execution_count": null,
   "id": "5d91c258",
   "metadata": {},
   "outputs": [],
   "source": [
    "df = collection_to_df(collections, db)"
   ]
  },
  {
   "cell_type": "code",
   "execution_count": null,
   "id": "66d92e3d",
   "metadata": {},
   "outputs": [],
   "source": [
    "df"
   ]
  },
  {
   "cell_type": "code",
   "execution_count": null,
   "id": "e567f046",
   "metadata": {},
   "outputs": [],
   "source": [
    "df = df[['_id','service','count','rating','_timestamp','period']]\n",
    "df"
   ]
  }
 ],
 "metadata": {
  "kernelspec": {
   "display_name": "",
   "language": "python",
   "name": ""
  },
  "language_info": {
   "codemirror_mode": {
    "name": "ipython",
    "version": 3
   },
   "file_extension": ".py",
   "mimetype": "text/x-python",
   "name": "python",
   "nbconvert_exporter": "python",
   "pygments_lexer": "ipython3",
   "version": "3.7.0"
  }
 },
 "nbformat": 4,
 "nbformat_minor": 5
}
